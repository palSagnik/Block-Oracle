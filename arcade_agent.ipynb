{
 "cells": [
  {
   "cell_type": "code",
   "execution_count": 2,
   "metadata": {},
   "outputs": [
    {
     "data": {
      "text/plain": [
       "True"
      ]
     },
     "execution_count": 2,
     "metadata": {},
     "output_type": "execute_result"
    }
   ],
   "source": [
    "import os\n",
    "from dotenv import load_dotenv\n",
    "load_dotenv()"
   ]
  },
  {
   "cell_type": "code",
   "execution_count": 3,
   "metadata": {},
   "outputs": [],
   "source": [
    "GROQ_API_KEY = os.getenv(\"GROQ_API_KEY\")\n",
    "LANGSMITH_API_KEY = os.getenv(\"LANGSMITH_API_KEY\")\n",
    "LANGSMITH_PROJECT = os.getenv(\"LANGSMITH_PROJECT\")\n",
    "LANGSMITH_ENDPOINT = os.getenv(\"LANGSMITH_ENDPOINT\")\n",
    "LANGSMITH_TRACING = os.getenv(\"LANGSMITH_TRACING\")\n",
    "CDP_API_KEY_NAME = os.getenv(\"CDP_API_KEY_NAME\")\n",
    "CDP_API_KEY_PRIVATE_KEY = os.getenv(\"CDP_API_KEY_PRIVATE_KEY\")\n",
    "GOOGLE_API_KEY = os.getenv(\"GOOGLE_API_KEY\")\n",
    "ARCADE_API_KEY = os.getenv(\"ARCADE_API_KEY\")"
   ]
  },
  {
   "cell_type": "code",
   "execution_count": 4,
   "metadata": {},
   "outputs": [],
   "source": [
    "os.environ[\"GROQ_API_KEY\"] = GROQ_API_KEY\n",
    "os.environ[\"LANGSMITH_API_KEY\"] = LANGSMITH_API_KEY\n",
    "os.environ[\"LANGSMITH_PROJECT\"] = LANGSMITH_PROJECT\n",
    "os.environ[\"LANGSMITH_ENDPOINT\"] = LANGSMITH_ENDPOINT\n",
    "os.environ[\"LANGSMITH_TRACING\"] = LANGSMITH_TRACING\n",
    "os.environ[\"CDP_API_KEY_PRIVATE_KEY\"] = CDP_API_KEY_PRIVATE_KEY\n",
    "os.environ[\"CDP_API_KEY_NAME\"] = CDP_API_KEY_NAME\n",
    "os.environ[\"GOOGLE_API_KEY\"] = GOOGLE_API_KEY\n",
    "os.environ[\"ARCADE_API_KEY\"] = ARCADE_API_KEY"
   ]
  },
  {
   "cell_type": "code",
   "execution_count": 5,
   "metadata": {},
   "outputs": [
    {
     "name": "stdout",
     "output_type": "stream",
     "text": [
      "[StructuredTool(name='X_DeleteTweetById', description='Delete a tweet on X (Twitter).', args_schema=<class 'langchain_arcade._utilities.DeleteTweetByIdArgs'>, func=<function create_tool_function.<locals>.tool_function at 0x000001D6E44B28E0>), StructuredTool(name='X_LookupSingleUserByUsername', description='Look up a user on X (Twitter) by their username.', args_schema=<class 'langchain_arcade._utilities.LookupSingleUserByUsernameArgs'>, func=<function create_tool_function.<locals>.tool_function at 0x000001D6E338FEC0>), StructuredTool(name='X_LookupTweetById', description='Look up a tweet on X (Twitter) by tweet ID.', args_schema=<class 'langchain_arcade._utilities.LookupTweetByIdArgs'>, func=<function create_tool_function.<locals>.tool_function at 0x000001D6E44E0220>), StructuredTool(name='X_PostTweet', description='Post a tweet to X (Twitter).', args_schema=<class 'langchain_arcade._utilities.PostTweetArgs'>, func=<function create_tool_function.<locals>.tool_function at 0x000001D6E44E0720>), StructuredTool(name='X_SearchRecentTweetsByKeywords', description='Search for recent tweets (last 7 days) on X (Twitter) by required keywords and phrases.\\nIncludes replies and reposts.\\nOne of the following input parameters MUST be provided: keywords, phrases', args_schema=<class 'langchain_arcade._utilities.SearchRecentTweetsByKeywordsArgs'>, func=<function create_tool_function.<locals>.tool_function at 0x000001D6E44E0C20>), StructuredTool(name='X_SearchRecentTweetsByUsername', description='Search for recent tweets (last 7 days) on X (Twitter) by username.\\nIncludes replies and reposts.', args_schema=<class 'langchain_arcade._utilities.SearchRecentTweetsByUsernameArgs'>, func=<function create_tool_function.<locals>.tool_function at 0x000001D6E44E1120>)]\n"
     ]
    }
   ],
   "source": [
    "from langchain_arcade import ArcadeToolManager\n",
    "tool_manager = ArcadeToolManager(api_key=ARCADE_API_KEY)\n",
    "tools = tool_manager.get_tools(toolkits=[\"X\"])\n",
    "print(tools)"
   ]
  },
  {
   "cell_type": "code",
   "execution_count": 6,
   "metadata": {},
   "outputs": [
    {
     "name": "stderr",
     "output_type": "stream",
     "text": [
      "C:\\Users\\HP\\AppData\\Roaming\\Python\\Python312\\site-packages\\tqdm\\auto.py:21: TqdmWarning: IProgress not found. Please update jupyter and ipywidgets. See https://ipywidgets.readthedocs.io/en/stable/user_install.html\n",
      "  from .autonotebook import tqdm as notebook_tqdm\n"
     ]
    }
   ],
   "source": [
    "from langchain_google_genai import ChatGoogleGenerativeAI\n",
    "model = ChatGoogleGenerativeAI(model=\"gemini-1.5-pro\")\n",
    "model_with_tools = model.bind_tools(tools)"
   ]
  },
  {
   "cell_type": "code",
   "execution_count": 7,
   "metadata": {},
   "outputs": [],
   "source": [
    "from langgraph.graph import MessagesState,START,END,StateGraph\n",
    "from langgraph.prebuilt import ToolNode\n",
    "from langgraph.checkpoint.memory import MemorySaver\n",
    "def call_agent(state: MessagesState):\n",
    "    messages = state[\"messages\"]\n",
    "    response = model_with_tools.invoke(messages)\n",
    "    # Return the updated message history\n",
    "    return {\"messages\": [response]}\n",
    " \n",
    " \n",
    "# Function to determine the next step in the workflow based on the last message\n",
    "def should_continue(state: MessagesState):\n",
    "    if state[\"messages\"][-1].tool_calls:\n",
    "        for tool_call in state[\"messages\"][-1].tool_calls:\n",
    "            if tool_manager.requires_auth(tool_call[\"name\"]):\n",
    "                return \"authorization\"\n",
    "        return \"tools\"  # Proceed to tool execution if no authorization is needed\n",
    "    return END  # End the workflow if no tool calls are present\n",
    " \n",
    " \n",
    "# Function to handle authorization for tools that require it\n",
    "def authorize(state: MessagesState, config: dict):\n",
    "    user_id = config[\"configurable\"].get(\"user_id\")\n",
    "    for tool_call in state[\"messages\"][-1].tool_calls:\n",
    "        tool_name = tool_call[\"name\"]\n",
    "        if not tool_manager.requires_auth(tool_name):\n",
    "            continue\n",
    "        auth_response = tool_manager.authorize(tool_name, user_id)\n",
    "        if auth_response.status != \"completed\":\n",
    "            # Prompt the user to visit the authorization URL\n",
    "            print(f\"Visit the following URL to authorize: {auth_response.url}\")\n",
    " \n",
    "            # Wait for the user to complete the authorization\n",
    "            # and then check the authorization status again\n",
    "            tool_manager.wait_for_auth(auth_response.id)\n",
    "            if not tool_manager.is_authorized(auth_response.id):\n",
    "                # This stops execution if authorization fails\n",
    "                raise ValueError(\"Authorization failed\")\n",
    " \n",
    "    return {\"messages\": []}"
   ]
  },
  {
   "cell_type": "code",
   "execution_count": 8,
   "metadata": {},
   "outputs": [],
   "source": [
    "workflow = StateGraph(MessagesState)\n",
    " \n",
    "# Add nodes (steps) to the graph\n",
    "workflow.add_node(\"agent\", call_agent)\n",
    "workflow.add_node(\"tools\", ToolNode(tools=tools))\n",
    "workflow.add_node(\"authorization\", authorize)\n",
    "\n",
    "# Define the edges and control flow between nodes\n",
    "workflow.add_edge(START, \"agent\")\n",
    "workflow.add_conditional_edges(\"agent\", should_continue, [\"authorization\", \"tools\", END])\n",
    "workflow.add_edge(\"authorization\", \"tools\")\n",
    "workflow.add_edge(\"tools\", \"agent\")\n",
    "\n",
    "# Set up memory for checkpointing the state\n",
    "memory = MemorySaver()\n",
    "\n",
    "# Compile the graph with the checkpointer\n",
    "arcadeai_agent = workflow.compile(checkpointer=memory)\n",
    "\n",
    "# Configuration with thread and user IDs for authorization purposes\n",
    "config = {\"configurable\": {\"thread_id\": \"1\", \"user_id\": \"user@example.com\"}}"
   ]
  },
  {
   "cell_type": "code",
   "execution_count": 9,
   "metadata": {},
   "outputs": [
    {
     "data": {
      "image/png": "[encoded data removed]",
      "text/plain": [
       "<IPython.core.display.Image object>"
      ]
     },
     "metadata": {},
     "output_type": "display_data"
    }
   ],
   "source": [
    "from IPython.display import Image, display\n",
    "display(Image(arcadeai_agent.get_graph(xray=True).draw_mermaid_png()))\n",
    "config = {\"configurable\": {\"thread_id\": \"1\", \"user_id\": \"user@example.com\"}}"
   ]
  },
  {
   "cell_type": "code",
   "execution_count": 13,
   "metadata": {},
   "outputs": [
    {
     "name": "stdout",
     "output_type": "stream",
     "text": [
      "================================\u001b[1m Human Message \u001b[0m=================================\n",
      "\n",
      "What was my previous question\n",
      "==================================\u001b[1m Ai Message \u001b[0m==================================\n",
      "\n",
      "Your previous question was: \"Tweet a short story from my account and provide link of this tweet\"\n"
     ]
    }
   ],
   "source": [
    "# from langchain_core.messages import HumanMessage, SystemMessage\n",
    "\n",
    "\n",
    "# messages = [HumanMessage(content=\"\")]\n",
    "# messages = arcadeai_agent.invoke({\"messages\": messages},config,stream_mode=\"values\")\n",
    "\n",
    "# # messages[\"messages\"][-2:]\n",
    "\n",
    "# for m in messages[\"messages\"][-2:]:\n",
    "#     m.pretty_print()"
   ]
  },
  {
   "cell_type": "code",
   "execution_count": null,
   "metadata": {},
   "outputs": [],
   "source": []
  }
 ],
 "metadata": {
  "kernelspec": {
   "display_name": "Python 3",
   "language": "python",
   "name": "python3"
  },
  "language_info": {
   "codemirror_mode": {
    "name": "ipython",
    "version": 3
   },
   "file_extension": ".py",
   "mimetype": "text/x-python",
   "name": "python",
   "nbconvert_exporter": "python",
   "pygments_lexer": "ipython3",
   "version": "3.12.8"
  }
 },
 "nbformat": 4,
 "nbformat_minor": 2
}
